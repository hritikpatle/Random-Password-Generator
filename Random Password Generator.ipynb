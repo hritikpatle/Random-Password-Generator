{
 "cells": [
  {
   "cell_type": "markdown",
   "id": "da865af4",
   "metadata": {},
   "source": [
    "## TASK - 3"
   ]
  },
  {
   "cell_type": "markdown",
   "id": "50d5b3f2",
   "metadata": {},
   "source": [
    "##### A password generator is a useful tool that generates strong and random passwords for users. This project aims to create a password generator application using Python, allowing users to specify the length and complexity of the password. User Input: Prompt the user to specify the desired length of the password. Generate Password: Use a combination of random characters to generate a password of the specified length. Display the Password: Print the generated password on the screen."
   ]
  },
  {
   "cell_type": "code",
   "execution_count": null,
   "id": "4249fca3",
   "metadata": {},
   "outputs": [],
   "source": [
    "import random\n",
    "import string\n",
    "\n",
    "def generate_password(length):\n",
    "    characters = string.ascii_letters + string.digits + string.punctuation\n",
    "    password = ''.join(random.choice(characters) for _ in range(length))\n",
    "    return password\n",
    "\n",
    "# Get user input for password length\n",
    "try:\n",
    "    length = int(input(\"Enter the desired length of the password: \"))\n",
    "except ValueError:\n",
    "    print(\"Invalid input. Please enter a valid number.\")\n",
    "    exit()\n",
    "\n",
    "# Generate and display the password\n",
    "if length > 0:\n",
    "    password = generate_password(length)\n",
    "    print(f\"Generated Password: {password}\")\n",
    "else:\n",
    "    print(\"Password length should be greater than 0.\")\n"
   ]
  }
 ],
 "metadata": {
  "kernelspec": {
   "display_name": "Python 3 (ipykernel)",
   "language": "python",
   "name": "python3"
  },
  "language_info": {
   "codemirror_mode": {
    "name": "ipython",
    "version": 3
   },
   "file_extension": ".py",
   "mimetype": "text/x-python",
   "name": "python",
   "nbconvert_exporter": "python",
   "pygments_lexer": "ipython3",
   "version": "3.11.4"
  }
 },
 "nbformat": 4,
 "nbformat_minor": 5
}
